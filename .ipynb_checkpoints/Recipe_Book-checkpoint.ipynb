{
 "cells": [
  {
   "cell_type": "code",
   "execution_count": 1,
   "metadata": {},
   "outputs": [],
   "source": [
    "import RecipeInit\n",
    "from RecipeInit import *"
   ]
  },
  {
   "cell_type": "code",
   "execution_count": 3,
   "metadata": {},
   "outputs": [
    {
     "name": "stdout",
     "output_type": "stream",
     "text": [
      "Welcome to my recipe book.\n",
      "To begin press 1: 1\n",
      "Enter the number of one of the menu choices:\n",
      "  >>> 1: Search for recipes based on ingredients\n",
      "  >>> 2. Search for recipes based on keywords(ie. Christmas, cake, Chinese)\n",
      "  >>> 3. Search for recipes based on keywords and ingredients\n",
      "  >>> 4. Search for recipes based on complexity\n",
      "  >>> 5. Exit program\n",
      "\n",
      "Your choice: 4\n",
      "Query:\n",
      "If you wish to leave a specific section blank, press enter\n",
      " >> Enter keywords you want to search by: \n",
      " >> Enter your must be included ingredient(s): \n",
      " >> Enter ingredient(s) you do not want to be included: \n",
      " >> Sorting options: 're' for relevance, 'ra' for rating, 'p' for popular\n",
      "\n",
      "\n",
      "What complexity would you like your recipe to be?\n",
      "Press [1]Beginner [2]Intermediate [3]Advanced [4]Expert [5]Master\n",
      "\n",
      "Enter a number from 1-5: 5\n",
      "No recipes of that level\n",
      "Sorry\n",
      "Press 1 to test again. Another number to exit: 1\n",
      "Enter the number of one of the menu choices:\n",
      "  >>> 1: Search for recipes based on ingredients\n",
      "  >>> 2. Search for recipes based on keywords(ie. Christmas, cake, Chinese)\n",
      "  >>> 3. Search for recipes based on keywords and ingredients\n",
      "  >>> 4. Search for recipes based on complexity\n",
      "  >>> 5. Exit program\n",
      "\n",
      "Your choice: 4\n",
      "Query:\n",
      "If you wish to leave a specific section blank, press enter\n",
      " >> Enter keywords you want to search by: \n",
      " >> Enter your must be included ingredient(s): \n",
      " >> Enter ingredient(s) you do not want to be included: nuts\n",
      " >> Sorting options: 're' for relevance, 'ra' for rating, 'p' for popular\n",
      "\n",
      "\n",
      "What complexity would you like your recipe to be?\n",
      "Press [1]Beginner [2]Intermediate [3]Advanced [4]Expert [5]Master\n",
      "\n",
      "Enter a number from 1-5: 1\n",
      "{'Recipe Name': \"Grandmother's Buttermilk Cornbread\", 'Rating': 4.81, 'Serves': 'Original recipe yields 9 servings', 'Calories Per Serving': '284 cals', 'Total Time': '55 m', 'Ingredients': ['1/2 cup butter', '2/3 cup white sugar', '2 eggs', '1 cup buttermilk', '1/2 teaspoon baking soda', '1 cup cornmeal', '1 cup all-purpose flour', '1/2 teaspoon salt'], 'Directions': ['Bake in the preheated oven for 30 to 40 minutes, or until a toothpick inserted in the center comes out clean.'], 'URL': 'https://www.allrecipes.com/recipe/76594/grandmothers-buttermilk-cornbread/', 'Complexity': 1} \n",
      "\n",
      "{'Recipe Name': 'Guacamole', 'Rating': 4.81, 'Serves': 'Original recipe yields 4 servings', 'Calories Per Serving': '262 cals', 'Total Time': '10 m', 'Ingredients': ['3 avocados - peeled, pitted, and mashed', '1 lime, juiced', '1 teaspoon salt', '1/2 cup diced onion', '3 tablespoons chopped fresh cilantro', '2 roma (plum) tomatoes, diced', '1 teaspoon minced garlic', '1 pinch ground cayenne pepper (optional)'], 'Directions': ['In a medium bowl, mash together the avocados, lime juice, and salt. Mix in onion, cilantro, tomatoes, and garlic. Stir in cayenne pepper. Refrigerate 1 hour for best flavor, or serve immediately.'], 'URL': 'https://www.allrecipes.com/recipe/14231/guacamole/', 'Complexity': 1} \n",
      "\n",
      "Press 1 to test again. Another number to exit: 4\n",
      "Goodbye\n"
     ]
    }
   ],
   "source": [
    "## FOR USERS:\n",
    "print(\"Welcome to my recipe book.\")\n",
    "user = int(input(\"To begin press 1: \"))\n",
    "while user == 1:\n",
    "    m = MainMenu()\n",
    "    m.optionOne()\n",
    "    m.optionTwo()\n",
    "    m.optionThree()\n",
    "    m.optionFour()\n",
    "    m.optionFive()\n",
    "    \n",
    "    user = int(input (\"Press 1 to test again. Another number to exit: \"))\n",
    "\n",
    "print(\"Goodbye\")"
   ]
  },
  {
   "cell_type": "code",
   "execution_count": null,
   "metadata": {},
   "outputs": [],
   "source": []
  }
 ],
 "metadata": {
  "kernelspec": {
   "display_name": "Python 3",
   "language": "python",
   "name": "python3"
  },
  "language_info": {
   "codemirror_mode": {
    "name": "ipython",
    "version": 3
   },
   "file_extension": ".py",
   "mimetype": "text/x-python",
   "name": "python",
   "nbconvert_exporter": "python",
   "pygments_lexer": "ipython3",
   "version": "3.7.4"
  }
 },
 "nbformat": 4,
 "nbformat_minor": 2
}
