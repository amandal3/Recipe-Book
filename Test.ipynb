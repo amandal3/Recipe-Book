{
 "cells": [
  {
   "cell_type": "code",
   "execution_count": 1,
   "metadata": {},
   "outputs": [],
   "source": [
    "import RecipeInit as RB\n",
    "from RecipeInit import *"
   ]
  },
  {
   "cell_type": "code",
   "execution_count": 2,
   "metadata": {},
   "outputs": [],
   "source": [
    "specifics = {\n",
    "  \"wt\": \"cake\",       # Query keywords\n",
    "  \"ingIncl\": \"lemon\",  # 'Must be included' ingredient(s) (optional)\n",
    "  \"ingExcl\": \"walnuts\",  # 'Must not be included' ingredient(s) (optional)\n",
    "  \"sort\": \"re\"    # Sorting options : 're' for relevance, 'ra' for rating, 'p' for popular (optional)\n",
    "}"
   ]
  },
  {
   "cell_type": "code",
   "execution_count": null,
   "metadata": {},
   "outputs": [],
   "source": [
    "#test\n",
    "def test_list_allRecipes():\n",
    "    \n",
    "    listR = RB.list_allRecipes(specifics)\n",
    "    assert listR"
   ]
  }
 ],
 "metadata": {
  "kernelspec": {
   "display_name": "Python 3",
   "language": "python",
   "name": "python3"
  },
  "language_info": {
   "codemirror_mode": {
    "name": "ipython",
    "version": 3
   },
   "file_extension": ".py",
   "mimetype": "text/x-python",
   "name": "python",
   "nbconvert_exporter": "python",
   "pygments_lexer": "ipython3",
   "version": "3.7.4"
  }
 },
 "nbformat": 4,
 "nbformat_minor": 2
}
